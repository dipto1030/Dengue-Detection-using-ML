{
 "cells": [
  {
   "cell_type": "code",
   "execution_count": 1,
   "id": "3f24da19-b86d-492d-be42-b56f92f29fe2",
   "metadata": {},
   "outputs": [],
   "source": [
    "import warnings\n",
    "warnings.filterwarnings('ignore')\n",
    "\n",
    "import numpy as np\n",
    "import pandas as pd\n",
    "import matplotlib.pyplot as plt\n",
    "%matplotlib inline\n",
    "import seaborn as sns"
   ]
  },
  {
   "cell_type": "code",
   "execution_count": 2,
   "id": "810d4211-94a7-4c6f-bec0-fb267ba5f01d",
   "metadata": {},
   "outputs": [],
   "source": [
    "numerical_columns = ['Age','Temperature','Pulse', 'Platelet', 'RBS','Systolic', 'Diastolic']\n",
    "\n",
    "Categorical_columns = [\n",
    "    \"Gender\", \"Fever\", \"Cough\", \"Headache\", \"Body ache\",\"Abdominal_pain\",\"Vomiting_Nausea\", \n",
    "    \"Weakness\",\"Diarrhea\", \"Bleeding\", \"Anaemia\", \"Dehydration\", \"NS1\"\n",
    "]"
   ]
  },
  {
   "cell_type": "code",
   "execution_count": 3,
   "id": "1eadb135-ce44-4ce1-b007-dac67351825d",
   "metadata": {
    "scrolled": true
   },
   "outputs": [
    {
     "data": {
      "text/html": [
       "<div>\n",
       "<style scoped>\n",
       "    .dataframe tbody tr th:only-of-type {\n",
       "        vertical-align: middle;\n",
       "    }\n",
       "\n",
       "    .dataframe tbody tr th {\n",
       "        vertical-align: top;\n",
       "    }\n",
       "\n",
       "    .dataframe thead th {\n",
       "        text-align: right;\n",
       "    }\n",
       "</style>\n",
       "<table border=\"1\" class=\"dataframe\">\n",
       "  <thead>\n",
       "    <tr style=\"text-align: right;\">\n",
       "      <th></th>\n",
       "      <th>Age</th>\n",
       "      <th>Gender</th>\n",
       "      <th>Fever</th>\n",
       "      <th>Cough</th>\n",
       "      <th>Headache</th>\n",
       "      <th>Body ache</th>\n",
       "      <th>Temperature</th>\n",
       "      <th>Diarrhea</th>\n",
       "      <th>Bleeding</th>\n",
       "      <th>Pulse</th>\n",
       "      <th>Platelet</th>\n",
       "      <th>RBS</th>\n",
       "      <th>Anaemia</th>\n",
       "      <th>Dehydration</th>\n",
       "      <th>NS1</th>\n",
       "      <th>Systolic</th>\n",
       "      <th>Diastolic</th>\n",
       "      <th>Weakness</th>\n",
       "      <th>Vomiting_Nausea</th>\n",
       "      <th>Abdominal_pain</th>\n",
       "    </tr>\n",
       "  </thead>\n",
       "  <tbody>\n",
       "    <tr>\n",
       "      <th>0</th>\n",
       "      <td>25.0</td>\n",
       "      <td>1</td>\n",
       "      <td>1.0</td>\n",
       "      <td>0.0</td>\n",
       "      <td>0.0</td>\n",
       "      <td>1.0</td>\n",
       "      <td>100.101796</td>\n",
       "      <td>0.0</td>\n",
       "      <td>0.0</td>\n",
       "      <td>90.0</td>\n",
       "      <td>45000.000000</td>\n",
       "      <td>9.569364</td>\n",
       "      <td>1.0</td>\n",
       "      <td>0.0</td>\n",
       "      <td>1</td>\n",
       "      <td>100.0</td>\n",
       "      <td>70.0</td>\n",
       "      <td>1.0</td>\n",
       "      <td>0.0</td>\n",
       "      <td>0</td>\n",
       "    </tr>\n",
       "    <tr>\n",
       "      <th>1</th>\n",
       "      <td>21.0</td>\n",
       "      <td>0</td>\n",
       "      <td>1.0</td>\n",
       "      <td>0.0</td>\n",
       "      <td>1.0</td>\n",
       "      <td>1.0</td>\n",
       "      <td>100.101796</td>\n",
       "      <td>0.0</td>\n",
       "      <td>0.0</td>\n",
       "      <td>68.0</td>\n",
       "      <td>90000.000000</td>\n",
       "      <td>5.600000</td>\n",
       "      <td>1.0</td>\n",
       "      <td>0.0</td>\n",
       "      <td>1</td>\n",
       "      <td>110.0</td>\n",
       "      <td>70.0</td>\n",
       "      <td>1.0</td>\n",
       "      <td>1.0</td>\n",
       "      <td>0</td>\n",
       "    </tr>\n",
       "    <tr>\n",
       "      <th>2</th>\n",
       "      <td>28.0</td>\n",
       "      <td>1</td>\n",
       "      <td>1.0</td>\n",
       "      <td>0.0</td>\n",
       "      <td>1.0</td>\n",
       "      <td>0.0</td>\n",
       "      <td>100.101796</td>\n",
       "      <td>1.0</td>\n",
       "      <td>0.0</td>\n",
       "      <td>88.0</td>\n",
       "      <td>115801.561798</td>\n",
       "      <td>9.569364</td>\n",
       "      <td>0.0</td>\n",
       "      <td>0.0</td>\n",
       "      <td>1</td>\n",
       "      <td>110.0</td>\n",
       "      <td>90.0</td>\n",
       "      <td>1.0</td>\n",
       "      <td>0.0</td>\n",
       "      <td>1</td>\n",
       "    </tr>\n",
       "    <tr>\n",
       "      <th>3</th>\n",
       "      <td>40.0</td>\n",
       "      <td>0</td>\n",
       "      <td>0.0</td>\n",
       "      <td>1.0</td>\n",
       "      <td>1.0</td>\n",
       "      <td>0.0</td>\n",
       "      <td>100.101796</td>\n",
       "      <td>0.0</td>\n",
       "      <td>0.0</td>\n",
       "      <td>141.0</td>\n",
       "      <td>76000.000000</td>\n",
       "      <td>6.670000</td>\n",
       "      <td>0.0</td>\n",
       "      <td>0.0</td>\n",
       "      <td>1</td>\n",
       "      <td>120.0</td>\n",
       "      <td>100.0</td>\n",
       "      <td>1.0</td>\n",
       "      <td>0.0</td>\n",
       "      <td>0</td>\n",
       "    </tr>\n",
       "    <tr>\n",
       "      <th>4</th>\n",
       "      <td>60.0</td>\n",
       "      <td>0</td>\n",
       "      <td>1.0</td>\n",
       "      <td>1.0</td>\n",
       "      <td>0.0</td>\n",
       "      <td>0.0</td>\n",
       "      <td>100.101796</td>\n",
       "      <td>1.0</td>\n",
       "      <td>0.0</td>\n",
       "      <td>62.0</td>\n",
       "      <td>55000.000000</td>\n",
       "      <td>8.600000</td>\n",
       "      <td>1.0</td>\n",
       "      <td>1.0</td>\n",
       "      <td>1</td>\n",
       "      <td>100.0</td>\n",
       "      <td>70.0</td>\n",
       "      <td>1.0</td>\n",
       "      <td>0.0</td>\n",
       "      <td>1</td>\n",
       "    </tr>\n",
       "  </tbody>\n",
       "</table>\n",
       "</div>"
      ],
      "text/plain": [
       "    Age  Gender  Fever  Cough  Headache  Body ache  Temperature  Diarrhea  \\\n",
       "0  25.0       1    1.0    0.0       0.0        1.0   100.101796       0.0   \n",
       "1  21.0       0    1.0    0.0       1.0        1.0   100.101796       0.0   \n",
       "2  28.0       1    1.0    0.0       1.0        0.0   100.101796       1.0   \n",
       "3  40.0       0    0.0    1.0       1.0        0.0   100.101796       0.0   \n",
       "4  60.0       0    1.0    1.0       0.0        0.0   100.101796       1.0   \n",
       "\n",
       "   Bleeding  Pulse       Platelet       RBS  Anaemia  Dehydration  NS1  \\\n",
       "0       0.0   90.0   45000.000000  9.569364      1.0          0.0    1   \n",
       "1       0.0   68.0   90000.000000  5.600000      1.0          0.0    1   \n",
       "2       0.0   88.0  115801.561798  9.569364      0.0          0.0    1   \n",
       "3       0.0  141.0   76000.000000  6.670000      0.0          0.0    1   \n",
       "4       0.0   62.0   55000.000000  8.600000      1.0          1.0    1   \n",
       "\n",
       "   Systolic  Diastolic  Weakness  Vomiting_Nausea  Abdominal_pain  \n",
       "0     100.0       70.0       1.0              0.0               0  \n",
       "1     110.0       70.0       1.0              1.0               0  \n",
       "2     110.0       90.0       1.0              0.0               1  \n",
       "3     120.0      100.0       1.0              0.0               0  \n",
       "4     100.0       70.0       1.0              0.0               1  "
      ]
     },
     "execution_count": 3,
     "metadata": {},
     "output_type": "execute_result"
    }
   ],
   "source": [
    "df = pd.read_csv(\"clean_data.csv\")\n",
    "df.drop(columns=[\"Unnamed: 0\"], axis = 1, inplace=True)\n",
    "df.head()"
   ]
  },
  {
   "cell_type": "code",
   "execution_count": 4,
   "id": "9cf389c0-1938-4062-9bb9-748281f0c0aa",
   "metadata": {},
   "outputs": [
    {
     "name": "stdout",
     "output_type": "stream",
     "text": [
      "<class 'pandas.core.frame.DataFrame'>\n",
      "RangeIndex: 721 entries, 0 to 720\n",
      "Data columns (total 20 columns):\n",
      " #   Column           Non-Null Count  Dtype  \n",
      "---  ------           --------------  -----  \n",
      " 0   Age              721 non-null    float64\n",
      " 1   Gender           721 non-null    int64  \n",
      " 2   Fever            721 non-null    float64\n",
      " 3   Cough            721 non-null    float64\n",
      " 4   Headache         721 non-null    float64\n",
      " 5   Body ache        721 non-null    float64\n",
      " 6   Temperature      721 non-null    float64\n",
      " 7   Diarrhea         721 non-null    float64\n",
      " 8   Bleeding         721 non-null    float64\n",
      " 9   Pulse            721 non-null    float64\n",
      " 10  Platelet         721 non-null    float64\n",
      " 11  RBS              721 non-null    float64\n",
      " 12  Anaemia          721 non-null    float64\n",
      " 13  Dehydration      721 non-null    float64\n",
      " 14  NS1              721 non-null    int64  \n",
      " 15  Systolic         721 non-null    float64\n",
      " 16  Diastolic        721 non-null    float64\n",
      " 17  Weakness         721 non-null    float64\n",
      " 18  Vomiting_Nausea  721 non-null    float64\n",
      " 19  Abdominal_pain   721 non-null    int64  \n",
      "dtypes: float64(17), int64(3)\n",
      "memory usage: 112.8 KB\n"
     ]
    }
   ],
   "source": [
    "df.info()"
   ]
  },
  {
   "cell_type": "code",
   "execution_count": 5,
   "id": "b85c3eb4-3822-46d0-82f3-bb3e6f1ae299",
   "metadata": {},
   "outputs": [
    {
     "data": {
      "image/png": "[encoded data removed]",
      "text/plain": [
       "<Figure size 2000x1000 with 2 Axes>"
      ]
     },
     "metadata": {},
     "output_type": "display_data"
    }
   ],
   "source": [
    "plt.figure(figsize=(20,10))\n",
    "sns.heatmap(df.corr(),cbar=True,annot=True);"
   ]
  },
  {
   "cell_type": "code",
   "execution_count": 6,
   "id": "40c77df2-7491-41cb-a749-7c167998453a",
   "metadata": {},
   "outputs": [
    {
     "data": {
      "text/html": [
       "<div>\n",
       "<style scoped>\n",
       "    .dataframe tbody tr th:only-of-type {\n",
       "        vertical-align: middle;\n",
       "    }\n",
       "\n",
       "    .dataframe tbody tr th {\n",
       "        vertical-align: top;\n",
       "    }\n",
       "\n",
       "    .dataframe thead th {\n",
       "        text-align: right;\n",
       "    }\n",
       "</style>\n",
       "<table border=\"1\" class=\"dataframe\">\n",
       "  <thead>\n",
       "    <tr style=\"text-align: right;\">\n",
       "      <th></th>\n",
       "      <th>min</th>\n",
       "      <th>max</th>\n",
       "    </tr>\n",
       "  </thead>\n",
       "  <tbody>\n",
       "    <tr>\n",
       "      <th>Age</th>\n",
       "      <td>12.0</td>\n",
       "      <td>110.0</td>\n",
       "    </tr>\n",
       "    <tr>\n",
       "      <th>Temperature</th>\n",
       "      <td>96.0</td>\n",
       "      <td>105.0</td>\n",
       "    </tr>\n",
       "    <tr>\n",
       "      <th>Pulse</th>\n",
       "      <td>40.0</td>\n",
       "      <td>160.0</td>\n",
       "    </tr>\n",
       "    <tr>\n",
       "      <th>Platelet</th>\n",
       "      <td>8000.0</td>\n",
       "      <td>2235000.0</td>\n",
       "    </tr>\n",
       "    <tr>\n",
       "      <th>RBS</th>\n",
       "      <td>1.3</td>\n",
       "      <td>70.0</td>\n",
       "    </tr>\n",
       "    <tr>\n",
       "      <th>Systolic</th>\n",
       "      <td>70.0</td>\n",
       "      <td>240.0</td>\n",
       "    </tr>\n",
       "    <tr>\n",
       "      <th>Diastolic</th>\n",
       "      <td>30.0</td>\n",
       "      <td>130.0</td>\n",
       "    </tr>\n",
       "  </tbody>\n",
       "</table>\n",
       "</div>"
      ],
      "text/plain": [
       "                min        max\n",
       "Age            12.0      110.0\n",
       "Temperature    96.0      105.0\n",
       "Pulse          40.0      160.0\n",
       "Platelet     8000.0  2235000.0\n",
       "RBS             1.3       70.0\n",
       "Systolic       70.0      240.0\n",
       "Diastolic      30.0      130.0"
      ]
     },
     "execution_count": 6,
     "metadata": {},
     "output_type": "execute_result"
    }
   ],
   "source": [
    "des_analysis = df[numerical_columns].describe().T\n",
    "des_analysis.drop([\"count\"], axis = 1,inplace = True)\n",
    "des_analysis[[\"min\", \"max\"]]"
   ]
  },
  {
   "cell_type": "code",
   "execution_count": 7,
   "id": "9bb38206",
   "metadata": {},
   "outputs": [
    {
     "data": {
      "text/plain": [
       "count    721.000000\n",
       "mean       9.569364\n",
       "std        4.466772\n",
       "min        1.300000\n",
       "25%        7.400000\n",
       "50%        9.569364\n",
       "75%        9.569364\n",
       "max       70.000000\n",
       "Name: RBS, dtype: float64"
      ]
     },
     "execution_count": 7,
     "metadata": {},
     "output_type": "execute_result"
    }
   ],
   "source": [
    "df[\"RBS\"].describe().T"
   ]
  },
  {
   "cell_type": "code",
   "execution_count": 8,
   "id": "9b7c4ffb-38eb-4f8d-890d-2e874005d262",
   "metadata": {},
   "outputs": [
    {
     "data": {
      "text/plain": [
       "(58.945908460471564, 41.05409153952843)"
      ]
     },
     "execution_count": 8,
     "metadata": {},
     "output_type": "execute_result"
    }
   ],
   "source": [
    "(df[df[\"NS1\"] == 1].shape[0]/df[\"NS1\"].shape[0])*100,(df[df[\"NS1\"] == 0].shape[0]/df[\"NS1\"].shape[0])*100"
   ]
  },
  {
   "cell_type": "code",
   "execution_count": 9,
   "id": "6343919f",
   "metadata": {},
   "outputs": [
    {
     "data": {
      "text/plain": [
       "((576, 18), (576,), (145, 18), (145,))"
      ]
     },
     "execution_count": 9,
     "metadata": {},
     "output_type": "execute_result"
    }
   ],
   "source": [
    "from sklearn.model_selection import train_test_split\n",
    "x = np.array(df.drop([\"NS1\", \"RBS\"], axis = 1))\n",
    "y = np.array(df[\"NS1\"])\n",
    "x_train, x_test, y_train, y_test = train_test_split(x,y, train_size=0.8, shuffle=True)\n",
    "x_train.shape, y_train.shape, x_test.shape, y_test.shape "
   ]
  },
  {
   "cell_type": "code",
   "execution_count": 10,
   "id": "f5963188-474f-44ff-b390-5a66466d8e3a",
   "metadata": {},
   "outputs": [],
   "source": [
    "from sklearn.ensemble import RandomForestClassifier\n",
    "from sklearn.linear_model import LogisticRegression\n",
    "from sklearn.naive_bayes import GaussianNB\n",
    "from sklearn.tree import DecisionTreeClassifier\n",
    "from xgboost import XGBClassifier\n",
    "\n",
    "from sklearn.model_selection import ShuffleSplit\n",
    "from sklearn.model_selection import GridSearchCV"
   ]
  },
  {
   "cell_type": "code",
   "execution_count": 11,
   "id": "a257af71-e763-46f4-9fa1-29bf294e2ac0",
   "metadata": {},
   "outputs": [],
   "source": [
    "model_params = {\n",
    "    'random_forest': {\n",
    "        'model': RandomForestClassifier(),\n",
    "        'params' : {\n",
    "            'n_estimators': [10,20, 30,40,50,80,99,92],\n",
    "}\n",
    "    },\n",
    "    'logistic_regression' : {\n",
    "        'model': LogisticRegression(solver='liblinear',multi_class='auto'),\n",
    "        'params': {\n",
    "            'penalty': [\"l1\",\"l2\"],\n",
    "            'C': [1,5,10],\n",
    "            'class_weight':['balanced'],\n",
    "            \n",
    "        }\n",
    "    },\n",
    "    'naive_bayes_gaussian': {\n",
    "        'model': GaussianNB(),\n",
    "        'params': {}\n",
    "    },\n",
    "    \n",
    "    'decision_tree': {\n",
    "        'model': DecisionTreeClassifier(),\n",
    "        'params': {\n",
    "            'criterion': ['gini','entropy'],\n",
    "        }    \n",
    "    },\n",
    "       'XGB_Classifier':{\n",
    "        'model':XGBClassifier(),\n",
    "        'params':{\n",
    "            'base_score':[0.1, 0.2, 0.4, 0.5, 1, 1.5, 2],\n",
    "            'reg_lambda':[0.5,0.7, 0.89, 1, 1.5, 2]\n",
    "            \n",
    "        }\n",
    "    }   \n",
    "}"
   ]
  },
  {
   "cell_type": "code",
   "execution_count": 12,
   "id": "8a6776df-a4d2-46cd-b97b-5a3a230097c9",
   "metadata": {},
   "outputs": [
    {
     "data": {
      "text/html": [
       "<div>\n",
       "<style scoped>\n",
       "    .dataframe tbody tr th:only-of-type {\n",
       "        vertical-align: middle;\n",
       "    }\n",
       "\n",
       "    .dataframe tbody tr th {\n",
       "        vertical-align: top;\n",
       "    }\n",
       "\n",
       "    .dataframe thead th {\n",
       "        text-align: right;\n",
       "    }\n",
       "</style>\n",
       "<table border=\"1\" class=\"dataframe\">\n",
       "  <thead>\n",
       "    <tr style=\"text-align: right;\">\n",
       "      <th></th>\n",
       "      <th>model</th>\n",
       "      <th>best_score</th>\n",
       "      <th>best_params</th>\n",
       "    </tr>\n",
       "  </thead>\n",
       "  <tbody>\n",
       "    <tr>\n",
       "      <th>0</th>\n",
       "      <td>random_forest</td>\n",
       "      <td>0.816552</td>\n",
       "      <td>{'n_estimators': 99}</td>\n",
       "    </tr>\n",
       "    <tr>\n",
       "      <th>1</th>\n",
       "      <td>logistic_regression</td>\n",
       "      <td>0.776552</td>\n",
       "      <td>{'C': 1, 'class_weight': 'balanced', 'penalty'...</td>\n",
       "    </tr>\n",
       "    <tr>\n",
       "      <th>2</th>\n",
       "      <td>naive_bayes_gaussian</td>\n",
       "      <td>0.710345</td>\n",
       "      <td>{}</td>\n",
       "    </tr>\n",
       "    <tr>\n",
       "      <th>3</th>\n",
       "      <td>decision_tree</td>\n",
       "      <td>0.784828</td>\n",
       "      <td>{'criterion': 'entropy'}</td>\n",
       "    </tr>\n",
       "    <tr>\n",
       "      <th>4</th>\n",
       "      <td>XGB_Classifier</td>\n",
       "      <td>0.849655</td>\n",
       "      <td>{'base_score': 0.1, 'reg_lambda': 0.5}</td>\n",
       "    </tr>\n",
       "  </tbody>\n",
       "</table>\n",
       "</div>"
      ],
      "text/plain": [
       "                  model  best_score  \\\n",
       "0         random_forest    0.816552   \n",
       "1   logistic_regression    0.776552   \n",
       "2  naive_bayes_gaussian    0.710345   \n",
       "3         decision_tree    0.784828   \n",
       "4        XGB_Classifier    0.849655   \n",
       "\n",
       "                                         best_params  \n",
       "0                               {'n_estimators': 99}  \n",
       "1  {'C': 1, 'class_weight': 'balanced', 'penalty'...  \n",
       "2                                                 {}  \n",
       "3                           {'criterion': 'entropy'}  \n",
       "4             {'base_score': 0.1, 'reg_lambda': 0.5}  "
      ]
     },
     "execution_count": 12,
     "metadata": {},
     "output_type": "execute_result"
    }
   ],
   "source": [
    "scores = []\n",
    "cross_validation = ShuffleSplit(n_splits=5, test_size=0.2, random_state=0)\n",
    "\n",
    "\n",
    "for model_name, mp in model_params.items():\n",
    "    classifier =  GridSearchCV(mp['model'], mp['params'], cv=cross_validation, return_train_score=False)\n",
    "    classifier.fit(x,y)\n",
    "    scores.append({\n",
    "        'model': model_name,\n",
    "        'best_score': classifier.best_score_,\n",
    "        'best_params': classifier.best_params_\n",
    "    })\n",
    "    \n",
    "analysis = pd.DataFrame(scores,columns=['model','best_score','best_params'])\n",
    "analysis"
   ]
  },
  {
   "cell_type": "code",
   "execution_count": 13,
   "id": "ed3f94dd",
   "metadata": {},
   "outputs": [],
   "source": [
    "from sklearn.metrics import confusion_matrix as cm\n",
    "from xgboost import XGBClassifier\n",
    "from sklearn.model_selection import train_test_split"
   ]
  },
  {
   "cell_type": "code",
   "execution_count": 14,
   "id": "bbfa3dca-73d5-4594-9c00-1d3ed9066da3",
   "metadata": {},
   "outputs": [
    {
     "name": "stdout",
     "output_type": "stream",
     "text": [
      "score: 0.7862068965517242\n"
     ]
    }
   ],
   "source": [
    "from sklearn.ensemble import RandomForestClassifier\n",
    "\n",
    "model = RandomForestClassifier(n_estimators=91,criterion=\"entropy\")\n",
    "\n",
    "model.fit(x_train, y_train)\n",
    "\n",
    "# preds\n",
    "score = model.score(x_test, y_test)\n",
    "\n",
    "print(f\"score: {score}\")"
   ]
  },
  {
   "cell_type": "code",
   "execution_count": 15,
   "id": "1cb8b2b8",
   "metadata": {},
   "outputs": [
    {
     "name": "stdout",
     "output_type": "stream",
     "text": [
      "For test Data:\n",
      "Random Forest Classifier: score: 81.65517241379311%\n",
      "[[51 18]\n",
      " [10 66]]\n",
      "XGB Classifier: score: 84.9655172413793%\n",
      "[[54 15]\n",
      " [10 66]]\n",
      "\n",
      "\n",
      "\n",
      "For Training Data:\n",
      "Random Forest Classifier:\n",
      "[[227   0]\n",
      " [  0 349]]\n",
      "XGB Classifier:\n",
      "[[227   0]\n",
      " [  0 349]]\n"
     ]
    }
   ],
   "source": [
    "x = np.array(df.drop([\"NS1\", \"RBS\", \"Abdominal_pain\"], axis = 1))\n",
    "y = np.array(df[\"NS1\"])\n",
    "x_train, x_test, y_train, y_test = train_test_split(x,y, train_size=0.8, shuffle=True)\n",
    "x_train.shape, y_train.shape, x_test.shape, y_test.shape\n",
    "\n",
    "base_model1 = RandomForestClassifier(n_estimators=92)\n",
    "base_model1.fit(x_train, y_train)\n",
    "preds1 = base_model1.predict(x_test)\n",
    "check1 = base_model1.predict(x_train)\n",
    "score1 = analysis[analysis[\"model\"] == \"random_forest\"][\"best_score\"].to_list()\n",
    "matrix1 = cm(y_test, preds1)\n",
    "matrix3 = cm(y_train, check1)\n",
    "\n",
    "\n",
    "base_model2 = XGBClassifier(base_score = 0.5)\n",
    "base_model2.fit(x_train, y_train)\n",
    "preds2 = base_model2.predict(x_test)\n",
    "check2 = base_model2.predict(x_train)\n",
    "\n",
    "score2 = analysis[analysis[\"model\"] == \"XGB_Classifier\"][\"best_score\"].to_list()\n",
    "matrix2 = cm(y_test, preds2)\n",
    "matrix4 = cm(y_train, check2)\n",
    "\n",
    "print(\"For test Data:\")\n",
    "print(f\"Random Forest Classifier: score: {score1[0]*100}%\\n{matrix1}\\nXGB Classifier: score: {score2[0]*100}%\\n{matrix2}\")\n",
    "print(\"\\n\\n\\nFor Training Data:\")\n",
    "print(f\"Random Forest Classifier:\\n{matrix3}\\nXGB Classifier:\\n{matrix4}\")"
   ]
  },
  {
   "cell_type": "code",
   "execution_count": 16,
   "id": "008ef6bc-5df5-4a49-8c03-12c17bb27ea3",
   "metadata": {},
   "outputs": [
    {
     "name": "stdout",
     "output_type": "stream",
     "text": [
      "Accuracy: 0.8275862068965517\n",
      "Precision: 0.8148148148148148\n",
      "Recall: 0.868421052631579\n",
      "F1 Score: 0.8407643312101911\n"
     ]
    }
   ],
   "source": [
    "from sklearn.metrics import accuracy_score, precision_score, recall_score, f1_score\n",
    "\n",
    "# Assuming you have true labels (y_true) and predicted labels (y_pred)\n",
    "accuracy = accuracy_score(y_test, preds2)\n",
    "precision = precision_score(y_test, preds2)\n",
    "recall = recall_score(y_test, preds2)\n",
    "f1 = f1_score(y_test, preds2)\n",
    "\n",
    "print(\"Accuracy:\", accuracy)\n",
    "print(\"Precision:\", precision)\n",
    "print(\"Recall:\", recall)\n",
    "print(\"F1 Score:\", f1)"
   ]
  },
  {
   "cell_type": "code",
   "execution_count": 17,
   "id": "ba967238-1da7-4bc5-a3c7-98adfee01453",
   "metadata": {},
   "outputs": [
    {
     "name": "stdout",
     "output_type": "stream",
     "text": [
      "for test data:\n",
      "\n",
      "Accuracy: 0.8482758620689655\n",
      "Precision: 0.8941176470588236\n",
      "Recall: 0.8539325842696629\n",
      "F1 Score: 0.8735632183908046\n",
      "\n",
      "\n",
      "for Training data:\n",
      "Accuracy: 1.0\n",
      "Precision: 1.0\n",
      "Recall: 1.0\n",
      "F1 Score: 1.0\n"
     ]
    }
   ],
   "source": [
    "from sklearn.metrics import accuracy_score, precision_score, recall_score, f1_score\n",
    "\n",
    "\n",
    "x = np.array(df.drop([\"NS1\", \"RBS\", \"Abdominal_pain\"], axis = 1))\n",
    "y = np.array(df[\"NS1\"])\n",
    "x_train, x_test, y_train, y_test = train_test_split(x,y, train_size=0.8, shuffle=True)\n",
    "x_train.shape, y_train.shape, x_test.shape, y_test.shape\n",
    "\n",
    "\n",
    "model = XGBClassifier(base_score = 0.5)\n",
    "model.fit(x_train, y_train)\n",
    "preds = model.predict(x_test)\n",
    "score = analysis[analysis[\"model\"] == \"XGB_Classifier\"][\"best_score\"].to_list()\n",
    "matrix = cm(y_test, preds)\n",
    "\n",
    "\n",
    "accuracy = accuracy_score(y_test, preds)\n",
    "precision = precision_score(y_test, preds)\n",
    "recall = recall_score(y_test, preds)\n",
    "f1 = f1_score(y_test, preds)\n",
    "print(f\"for test data:\\n\")\n",
    "print(\"Accuracy:\", accuracy)\n",
    "print(\"Precision:\", precision)\n",
    "print(\"Recall:\", recall)\n",
    "print(\"F1 Score:\", f1)\n",
    "\n",
    "check = model.predict(x_train)\n",
    "accuracy_train = accuracy_score(y_train, check)\n",
    "precision_train = precision_score(y_train, check)\n",
    "recall_train = recall_score(y_train, check)\n",
    "f1_train = f1_score(y_train, check)\n",
    "print(f\"\\n\\nfor Training data:\")\n",
    "print(\"Accuracy:\", accuracy_train)\n",
    "print(\"Precision:\", precision_train)\n",
    "print(\"Recall:\", recall_train)\n",
    "print(\"F1 Score:\", f1_train)"
   ]
  }
 ],
 "metadata": {
  "kernelspec": {
   "display_name": "Python 3 (ipykernel)",
   "language": "python",
   "name": "python3"
  },
  "language_info": {
   "codemirror_mode": {
    "name": "ipython",
    "version": 3
   },
   "file_extension": ".py",
   "mimetype": "text/x-python",
   "name": "python",
   "nbconvert_exporter": "python",
   "pygments_lexer": "ipython3",
   "version": "3.11.7"
  }
 },
 "nbformat": 4,
 "nbformat_minor": 5
}
